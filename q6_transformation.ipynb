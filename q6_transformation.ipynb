{
 "cells": [
  {
   "cell_type": "markdown",
   "metadata": {},
   "source": [
    "# Assignment 5, Question 6: Data Transformation\n",
    "\n",
    "**Points: 20**\n",
    "\n",
    "Transform and engineer features from the clinical trial dataset."
   ]
  },
  {
   "cell_type": "markdown",
   "metadata": {},
   "source": [
    "## Setup"
   ]
  },
  {
   "cell_type": "code",
   "execution_count": 1,
   "metadata": {
    "execution": {
     "iopub.execute_input": "2025-10-31T22:35:43.282701Z",
     "iopub.status.busy": "2025-10-31T22:35:43.282448Z",
     "iopub.status.idle": "2025-10-31T22:35:43.888237Z",
     "shell.execute_reply": "2025-10-31T22:35:43.887269Z"
    }
   },
   "outputs": [
    {
     "name": "stdout",
     "output_type": "stream",
     "text": [
      "Loaded 10000 patients\n"
     ]
    }
   ],
   "source": [
    "import pandas as pd\n",
    "import numpy as np\n",
    "import matplotlib.pyplot as plt\n",
    "\n",
    "# Import utilities\n",
    "from q3_data_utils import load_data, clean_data, transform_types, create_bins, fill_missing\n",
    "\n",
    "df = load_data('data/clinical_trial_raw.csv')\n",
    "print(f\"Loaded {len(df)} patients\")\n",
    "\n",
    "# Prewritten visualization functions for transformation analysis\n",
    "def plot_distribution(series, title, figsize=(10, 6)):\n",
    "    \"\"\"\n",
    "    Create a histogram of a numeric series.\n",
    "    \n",
    "    Args:\n",
    "        series: pandas Series with numeric data\n",
    "        title: Chart title\n",
    "        figsize: Figure size tuple\n",
    "    \"\"\"\n",
    "    plt.figure(figsize=figsize)\n",
    "    series.hist(bins=30)\n",
    "    plt.title(title)\n",
    "    plt.xlabel('Value')\n",
    "    plt.ylabel('Frequency')\n",
    "    plt.tight_layout()\n",
    "    plt.show()\n",
    "\n",
    "def plot_value_counts(series, title, figsize=(10, 6)):\n",
    "    \"\"\"\n",
    "    Create a bar chart of value counts.\n",
    "    \n",
    "    Args:\n",
    "        series: pandas Series with value counts\n",
    "        title: Chart title\n",
    "        figsize: Figure size tuple\n",
    "    \"\"\"\n",
    "    plt.figure(figsize=figsize)\n",
    "    series.plot(kind='bar')\n",
    "    plt.title(title)\n",
    "    plt.xticks(rotation=45)\n",
    "    plt.tight_layout()\n",
    "    plt.show()"
   ]
  },
  {
   "cell_type": "markdown",
   "metadata": {},
   "source": [
    "## Part 1: Type Conversions (5 points)\n",
    "\n",
    "1. Convert 'enrollment_date' to datetime using the `transform_types()` utility\n",
    "2. Convert categorical columns ('site', 'intervention_group', 'sex') to category dtype\n",
    "3. Ensure all numeric columns are proper numeric types\n",
    "4. Display the updated dtypes"
   ]
  },
  {
   "cell_type": "code",
   "execution_count": 2,
   "metadata": {
    "execution": {
     "iopub.execute_input": "2025-10-31T22:35:43.924980Z",
     "iopub.status.busy": "2025-10-31T22:35:43.924717Z",
     "iopub.status.idle": "2025-10-31T22:35:43.941437Z",
     "shell.execute_reply": "2025-10-31T22:35:43.940637Z"
    }
   },
   "outputs": [
    {
     "data": {
      "text/plain": [
       "patient_id                    object\n",
       "age                            int64\n",
       "sex                         category\n",
       "bmi                          float64\n",
       "enrollment_date       datetime64[ns]\n",
       "systolic_bp                  float64\n",
       "diastolic_bp                 float64\n",
       "cholesterol_total            float64\n",
       "cholesterol_hdl              float64\n",
       "cholesterol_ldl              float64\n",
       "glucose_fasting              float64\n",
       "site                        category\n",
       "intervention_group          category\n",
       "follow_up_months               int64\n",
       "adverse_events                 int64\n",
       "outcome_cvd                   object\n",
       "adherence_pct                float64\n",
       "dropout                       object\n",
       "dtype: object"
      ]
     },
     "execution_count": 2,
     "metadata": {},
     "output_type": "execute_result"
    }
   ],
   "source": [
    "# TODO: Type conversions\n",
    "# 1. Use transform_types() to convert enrollment_date to datetime\n",
    "try:\n",
    "    df = transform_types(df)\n",
    "except TypeError:\n",
    "    df[\"enrollment_date\"] = pd.to_datetime(df[\"enrollment_date\"], errors=\"coerce\")\n",
    "except NameError:\n",
    "    df[\"enrollment_date\"] = pd.to_datetime(df[\"enrollment_date\"], errors=\"coerce\")\n",
    "# 2. Convert categorical columns ('site', 'intervention_group', 'sex') to category dtype\n",
    "cat_cols = [\"site\", \"intervention_group\", \"sex\"]\n",
    "for c in cat_cols:\n",
    "    if c in df.columns:\n",
    "        df[c] = df[c].astype(\"category\")\n",
    "# 3. Ensure all numeric columns are proper numeric types\n",
    "numeric_like = [\"cholesterol_ldl\", \"cholesterol_hdl\", \"systolic_bp\", \"age\", \"bmi\"]\n",
    "for c in numeric_like:\n",
    "    if c in df.columns and df[c].dtype == \"object\":\n",
    "        df[c] = pd.to_numeric(df[c].str.replace(\",\", \"\").str.strip(), errors=\"coerce\")\n",
    "# 4. Display the updated dtypes using df.dtypes\n",
    "df.dtypes"
   ]
  },
  {
   "cell_type": "markdown",
   "metadata": {},
   "source": [
    "## Part 2: Feature Engineering (8 points)\n",
    "\n",
    "Create these new calculated columns:\n",
    "\n",
    "1. `cholesterol_ratio` = cholesterol_ldl / cholesterol_hdl\n",
    "2. `bp_category` = categorize systolic BP:\n",
    "   - 'Normal': < 120\n",
    "   - 'Elevated': 120-129\n",
    "   - 'High': >= 130\n",
    "3. `age_group` using `create_bins()` utility:\n",
    "   - Bins: [0, 40, 55, 70, 100]\n",
    "   - Labels: ['<40', '40-54', '55-69', '70+']\n",
    "4. `bmi_category` using standard BMI categories:\n",
    "   - Underweight: <18.5\n",
    "   - Normal: 18.5-24.9\n",
    "   - Overweight: 25-29.9\n",
    "   - Obese: >=30"
   ]
  },
  {
   "cell_type": "code",
   "execution_count": 3,
   "metadata": {
    "execution": {
     "iopub.execute_input": "2025-10-31T22:35:43.943472Z",
     "iopub.status.busy": "2025-10-31T22:35:43.943285Z",
     "iopub.status.idle": "2025-10-31T22:35:43.946892Z",
     "shell.execute_reply": "2025-10-31T22:35:43.946093Z"
    }
   },
   "outputs": [],
   "source": [
    "# TODO: Calculate cholesterol ratio\n",
    "if {\"cholesterol_ldl\", \"cholesterol_hdl\"}.issubset(df.columns):\n",
    "    df[\"cholesterol_ratio\"] = df[\"cholesterol_ldl\"] / df[\"cholesterol_hdl\"]"
   ]
  },
  {
   "cell_type": "code",
   "execution_count": 4,
   "metadata": {
    "execution": {
     "iopub.execute_input": "2025-10-31T22:35:43.948643Z",
     "iopub.status.busy": "2025-10-31T22:35:43.948464Z",
     "iopub.status.idle": "2025-10-31T22:35:43.956720Z",
     "shell.execute_reply": "2025-10-31T22:35:43.955947Z"
    }
   },
   "outputs": [],
   "source": [
    "# TODO: Categorize blood pressure\n",
    "def bp_bucket(x):\n",
    "    if pd.isna(x):\n",
    "        return np.nan\n",
    "    if x < 120:\n",
    "        return \"Normal\"\n",
    "    if 120 <= x <= 129:\n",
    "        return \"Elevated\"\n",
    "    return \"High\"\n",
    "\n",
    "if \"systolic_bp\" in df.columns:\n",
    "    df[\"bp_category\"] = df[\"systolic_bp\"].apply(bp_bucket).astype(\"category\")"
   ]
  },
  {
   "cell_type": "markdown",
   "metadata": {},
   "source": [
    "**Note:** The `create_bins()` function has an optional `new_column` parameter. If you don't specify it, the new column will be named `{original_column}_binned`. You can use `new_column='age_group'` to give it a custom name.\n"
   ]
  },
  {
   "cell_type": "code",
   "execution_count": 5,
   "metadata": {
    "execution": {
     "iopub.execute_input": "2025-10-31T22:35:43.958681Z",
     "iopub.status.busy": "2025-10-31T22:35:43.958498Z",
     "iopub.status.idle": "2025-10-31T22:35:43.965344Z",
     "shell.execute_reply": "2025-10-31T22:35:43.964553Z"
    }
   },
   "outputs": [],
   "source": [
    "# TODO: Create age groups\n",
    "age_bins = [0, 40, 55, 70, 100]\n",
    "age_labels = [\"<40\", \"40-54\", \"55-69\", \"70+\"]\n",
    "if \"create_bins\" in globals():\n",
    "    if \"age\" in df.columns:\n",
    "        df = create_bins(df, column=\"age\", bins=age_bins, labels=age_labels, new_column=\"age_group\")\n",
    "else:\n",
    "    if \"age\" in df.columns:\n",
    "        df[\"age_group\"] = pd.cut(df[\"age\"], bins=age_bins, labels=age_labels, right=False)\n",
    "\n",
    "if \"age_group\" in df.columns:\n",
    "    df[\"age_group\"] = df[\"age_group\"].astype(\"category\")"
   ]
  },
  {
   "cell_type": "code",
   "execution_count": 6,
   "metadata": {
    "execution": {
     "iopub.execute_input": "2025-10-31T22:35:43.967326Z",
     "iopub.status.busy": "2025-10-31T22:35:43.967147Z",
     "iopub.status.idle": "2025-10-31T22:35:43.971982Z",
     "shell.execute_reply": "2025-10-31T22:35:43.971179Z"
    }
   },
   "outputs": [],
   "source": [
    "# TODO: Create BMI categories\n",
    "bmi_bins = [0, 18.5, 25, 30, 100]\n",
    "bmi_labels = [\"Underweight\", \"Normal\", \"Overweight\", \"Obese\"]\n",
    "if \"bmi\" in df.columns:\n",
    "    df[\"bmi_category\"] = pd.cut(df[\"bmi\"], bins=bmi_bins, labels=bmi_labels, right=False)\n",
    "    df[\"bmi_category\"] = df[\"bmi_category\"].astype(\"category\")"
   ]
  },
  {
   "cell_type": "markdown",
   "metadata": {},
   "source": [
    "## Part 3: String Cleaning (2 points)\n",
    "\n",
    "If there are any string columns that need cleaning:\n",
    "1. Convert to lowercase\n",
    "2. Strip whitespace\n",
    "3. Replace any placeholder values"
   ]
  },
  {
   "cell_type": "code",
   "execution_count": 7,
   "metadata": {
    "execution": {
     "iopub.execute_input": "2025-10-31T22:35:43.973911Z",
     "iopub.status.busy": "2025-10-31T22:35:43.973705Z",
     "iopub.status.idle": "2025-10-31T22:35:43.990266Z",
     "shell.execute_reply": "2025-10-31T22:35:43.989467Z"
    }
   },
   "outputs": [],
   "source": [
    "# TODO: String cleaning\n",
    "placeholders = {\"\", \"na\", \"n/a\", \"none\", \"-\", \"null\"}\n",
    "obj_cols = df.select_dtypes(include=\"object\").columns\n",
    "for c in obj_cols:\n",
    "    df[c] = (\n",
    "        df[c]\n",
    "        .astype(str)\n",
    "        .str.strip()\n",
    "        .str.lower()\n",
    "        .map(lambda x: np.nan if x in placeholders else x)\n",
    "    )"
   ]
  },
  {
   "cell_type": "markdown",
   "metadata": {},
   "source": [
    "## Part 4: One-Hot Encoding (5 points)\n",
    "\n",
    "Create dummy variables for categorical columns:\n",
    "1. One-hot encode 'intervention_group' using `pd.get_dummies()`\n",
    "2. One-hot encode 'site'\n",
    "3. Drop the original categorical columns\n",
    "4. Show the new shape and column names"
   ]
  },
  {
   "cell_type": "code",
   "execution_count": 8,
   "metadata": {
    "execution": {
     "iopub.execute_input": "2025-10-31T22:35:43.992217Z",
     "iopub.status.busy": "2025-10-31T22:35:43.992031Z",
     "iopub.status.idle": "2025-10-31T22:35:44.013836Z",
     "shell.execute_reply": "2025-10-31T22:35:44.012997Z"
    }
   },
   "outputs": [
    {
     "name": "stdout",
     "output_type": "stream",
     "text": [
      "Removed 0 duplicate rows.\n",
      "(10000, 80)\n"
     ]
    },
    {
     "data": {
      "text/plain": [
       "['patient_id',\n",
       " 'age',\n",
       " 'sex',\n",
       " 'bmi',\n",
       " 'enrollment_date',\n",
       " 'systolic_bp',\n",
       " 'diastolic_bp',\n",
       " 'cholesterol_total',\n",
       " 'cholesterol_hdl',\n",
       " 'cholesterol_ldl',\n",
       " 'glucose_fasting',\n",
       " 'follow_up_months',\n",
       " 'adverse_events',\n",
       " 'outcome_cvd',\n",
       " 'adherence_pct',\n",
       " 'dropout',\n",
       " 'cholesterol_ratio',\n",
       " 'bp_category',\n",
       " 'age_group',\n",
       " 'bmi_category',\n",
       " 'intervention_group_  CONTROL  ',\n",
       " 'intervention_group_  Contrl  ',\n",
       " 'intervention_group_  Control  ',\n",
       " 'intervention_group_  TREATMENT A  ',\n",
       " 'intervention_group_  TREATMENT B  ',\n",
       " 'intervention_group_  Treatmen A  ',\n",
       " 'intervention_group_  Treatment  B  ',\n",
       " 'intervention_group_  Treatment A  ',\n",
       " 'intervention_group_  Treatment B  ',\n",
       " 'intervention_group_  TreatmentA  ',\n",
       " 'intervention_group_  control  ',\n",
       " 'intervention_group_  treatment a  ',\n",
       " 'intervention_group_  treatment b  ',\n",
       " 'intervention_group_CONTROL',\n",
       " 'intervention_group_Contrl',\n",
       " 'intervention_group_Control',\n",
       " 'intervention_group_TREATMENT A',\n",
       " 'intervention_group_TREATMENT B',\n",
       " 'intervention_group_Treatmen A',\n",
       " 'intervention_group_Treatment  B',\n",
       " 'intervention_group_Treatment A',\n",
       " 'intervention_group_Treatment B',\n",
       " 'intervention_group_TreatmentA',\n",
       " 'intervention_group_control',\n",
       " 'intervention_group_treatment a',\n",
       " 'intervention_group_treatment b',\n",
       " 'site_  SITE A  ',\n",
       " 'site_  SITE B  ',\n",
       " 'site_  SITE C  ',\n",
       " 'site_  SITE D  ',\n",
       " 'site_  SITE E  ',\n",
       " 'site_  Site  A  ',\n",
       " 'site_  Site A  ',\n",
       " 'site_  Site B  ',\n",
       " 'site_  Site C  ',\n",
       " 'site_  Site D  ',\n",
       " 'site_  Site E  ',\n",
       " 'site_  Site_D  ',\n",
       " 'site_  site a  ',\n",
       " 'site_  site b  ',\n",
       " 'site_  site c  ',\n",
       " 'site_  site d  ',\n",
       " 'site_  site e  ',\n",
       " 'site_SITE A',\n",
       " 'site_SITE B',\n",
       " 'site_SITE C',\n",
       " 'site_SITE D',\n",
       " 'site_SITE E',\n",
       " 'site_Site  A',\n",
       " 'site_Site A',\n",
       " 'site_Site B',\n",
       " 'site_Site C',\n",
       " 'site_Site D',\n",
       " 'site_Site E',\n",
       " 'site_Site_D',\n",
       " 'site_site a',\n",
       " 'site_site b',\n",
       " 'site_site c',\n",
       " 'site_site d',\n",
       " 'site_site e']"
      ]
     },
     "execution_count": 8,
     "metadata": {},
     "output_type": "execute_result"
    }
   ],
   "source": [
    "# TODO: One-hot encoding\n",
    "before = len(df)\n",
    "df = df.drop_duplicates().copy()\n",
    "after = len(df)\n",
    "print(f\"Removed {before - after} duplicate rows.\")\n",
    "\n",
    "ohe_cols = [c for c in [\"intervention_group\", \"site\"] if c in df.columns]\n",
    "df = pd.get_dummies(df, columns=ohe_cols, prefix=ohe_cols, drop_first=False)\n",
    "\n",
    "print(df.shape)\n",
    "df.columns.tolist()"
   ]
  },
  {
   "cell_type": "markdown",
   "metadata": {},
   "source": [
    "## Part 5: Save Transformed Data\n",
    "\n",
    "Save the fully transformed dataset to `output/q6_transformed_data.csv`"
   ]
  },
  {
   "cell_type": "code",
   "execution_count": 9,
   "metadata": {
    "execution": {
     "iopub.execute_input": "2025-10-31T22:35:44.016022Z",
     "iopub.status.busy": "2025-10-31T22:35:44.015830Z",
     "iopub.status.idle": "2025-10-31T22:35:44.237939Z",
     "shell.execute_reply": "2025-10-31T22:35:44.236589Z"
    }
   },
   "outputs": [
    {
     "name": "stdout",
     "output_type": "stream",
     "text": [
      "Saved → output/q6_transformed_data.csv\n"
     ]
    }
   ],
   "source": [
    "# TODO: Save transformed data\n",
    "# df_transformed.to_csv('output/q6_transformed_data.csv', index=False)\n",
    "output_path = \"output/q6_transformed_data.csv\"\n",
    "import os\n",
    "os.makedirs(os.path.dirname(output_path), exist_ok=True)\n",
    "df.to_csv(output_path, index=False)\n",
    "print(f\"Saved → {output_path}\")"
   ]
  }
 ],
 "metadata": {
  "kernelspec": {
   "display_name": "Python 3",
   "language": "python",
   "name": "python3"
  },
  "language_info": {
   "codemirror_mode": {
    "name": "ipython",
    "version": 3
   },
   "file_extension": ".py",
   "mimetype": "text/x-python",
   "name": "python",
   "nbconvert_exporter": "python",
   "pygments_lexer": "ipython3",
   "version": "3.12.1"
  }
 },
 "nbformat": 4,
 "nbformat_minor": 2
}
