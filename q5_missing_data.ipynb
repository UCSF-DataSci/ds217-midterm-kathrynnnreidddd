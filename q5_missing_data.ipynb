{
 "cells": [
  {
   "cell_type": "markdown",
   "metadata": {},
   "source": [
    "# Assignment 5, Question 5: Missing Data Analysis\n",
    "\n",
    "**Points: 15**\n",
    "\n",
    "Apply and compare different missing data strategies on the clinical trial dataset."
   ]
  },
  {
   "cell_type": "markdown",
   "metadata": {},
   "source": [
    "## Setup"
   ]
  },
  {
   "cell_type": "code",
   "execution_count": null,
   "metadata": {},
   "outputs": [],
   "source": [
    "import pandas as pd\n",
    "import numpy as np\n",
    "import matplotlib.pyplot as plt\n",
    "\n",
    "# Import utilities from Q3\n",
    "from q3_data_utils import load_data, detect_missing, fill_missing\n",
    "\n",
    "# Load the data\n",
    "df = load_data('data/clinical_trial_raw.csv')\n",
    "print(f\"Loaded {len(df)} patients\")\n",
    "\n",
    "# Prewritten visualization function for missing data\n",
    "def visualize_missing_data(missing_counts):\n",
    "    \"\"\"\n",
    "    Create a bar chart of missing values by column.\n",
    "    \n",
    "    Args:\n",
    "        missing_counts: pandas Series with missing value counts per column\n",
    "    \"\"\"\n",
    "    plt.figure(figsize=(10, 6))\n",
    "    missing_counts.plot(kind='bar')\n",
    "    plt.title('Missing Values by Column')\n",
    "    plt.xticks(rotation=45)\n",
    "    plt.ylabel('Number of Missing Values')\n",
    "    plt.tight_layout()\n",
    "    plt.show()"
   ]
  },
  {
   "cell_type": "markdown",
   "metadata": {},
   "source": [
    "## Part 1: Detect Missing Data (3 points)\n",
    "\n",
    "1. Use the `detect_missing()` utility to find missing values\n",
    "2. Visualize missing data with a bar plot\n",
    "3. Calculate the percentage of missing values per column"
   ]
  },
  {
   "cell_type": "code",
   "execution_count": null,
   "metadata": {},
   "outputs": [],
   "source": [
    "# TODO: Detect and analyze missing data\n",
    "# 1. Use detect_missing(df) to get missing value counts\n",
    "# 2. Calculate percentage of missing values per column  \n",
    "# 3. Print both counts and percentages\n",
    "# 4. Identify which columns have missing data\n",
    "\n",
    "# Optional: Use the visualization function above to create a bar chart\n",
    "# visualize_missing_data(missing_counts)\n",
    "missing_counts = detect_missing(df)\n",
    "missing_percent = (missing_counts / len(df)) * 100\n",
    "print(\"Missing Value Counts:\\n\", missing_counts)\n",
    "print(\"\\nMissing Value Percentages (%):\\n\", missing_percent)\n",
    "visualize_missing_data(missing_counts)"
   ]
  },
  {
   "cell_type": "markdown",
   "metadata": {},
   "source": [
    "## Part 2: Compare Imputation Strategies (6 points)\n",
    "\n",
    "For the 'cholesterol_total' column (which has missing values):\n",
    "\n",
    "1. Fill with mean using `fill_missing()` utility\n",
    "2. Fill with median using `fill_missing()` utility  \n",
    "3. Forward fill using pandas `.fillna(method='ffill')`\n",
    "4. Compare the three strategies - create a summary table showing:\n",
    "   - Original mean/median\n",
    "   - Mean/median after each strategy\n",
    "   - How many values were filled"
   ]
  },
  {
   "cell_type": "code",
   "execution_count": null,
   "metadata": {},
   "outputs": [],
   "source": [
    "# TODO: Compare imputation strategies\n",
    "col = 'cholesterol_total'\n",
    "original_mean = df[col].mean()\n",
    "original_median = df[col].median()\n",
    "print(f\"Original mean: {original_mean:.2f}, median: {original_median:.2f}\")\n",
    "\n",
    "mean_imputed = fill_missing(df, col, strategy='mean')\n",
    "mean_filled = mean_imputed[col].isna().sum()\n",
    "\n",
    "median_imputed = fill_missing(df, col, strategy='median')\n",
    "median_filled = median_imputed[col].isna().sum()\n",
    "\n",
    "ffill_imputed = df[col].fillna(method='ffill')\n",
    "ffill_filled = ffill_imputed.isna().sum()\n",
    "\n",
    "summary = pd.DataFrame({\n",
    "    \"Strategy\": [\"Mean\", \"Median\", \"Forward Fill\"],\n",
    "    \"New Mean\": [mean_imputed[col].mean(), median_imputed[col].mean(), ffill_imputed.mean()],\n",
    "    \"New Median\": [mean_imputed[col].median(), median_imputed[col].median(), ffill_imputed.median()],\n",
    "    \"Missing Remaining\": [mean_filled, median_filled, ffill_filled]\n",
    "})\n",
    "print(summary)"
   ]
  },
  {
   "cell_type": "markdown",
   "metadata": {},
   "source": [
    "## Part 3: Dropping Missing Data (3 points)\n",
    "\n",
    "1. Drop rows where ANY column has missing data - how many rows remain?\n",
    "2. Drop rows where specific columns have missing data (e.g., only 'age' or 'bmi')\n",
    "3. Which approach loses less data?"
   ]
  },
  {
   "cell_type": "code",
   "execution_count": null,
   "metadata": {},
   "outputs": [],
   "source": [
    "# TODO: Drop missing rows with different strategies\n",
    "drop_any = df.dropna()\n",
    "print(f\"Rows remaining after dropna(): {len(drop_any)}\")\n",
    "drop_specific = df.dropna(subset=['age', 'bmi'])\n",
    "print(f\"Rows remaining after dropping only if age/bmi missing: {len(drop_specific)}\")\n",
    "if len(drop_any) > len(drop_specific):\n",
    "    print(\"Dropping specific columns loses less data.\")\n",
    "else:\n",
    "    print(\"Dropping specific columns retains more data.\")"
   ]
  },
  {
   "cell_type": "markdown",
   "metadata": {},
   "source": [
    "## Part 4: Create Clean Dataset (3 points)\n",
    "\n",
    "Apply your chosen strategy to create a clean dataset:\n",
    "1. Choose appropriate imputation for numeric columns\n",
    "2. Drop rows with missing critical values (e.g., patient_id, age)\n",
    "3. Save to `output/q5_cleaned_data.csv`\n",
    "4. Save a missing data report to `output/q5_missing_report.txt`"
   ]
  },
  {
   "cell_type": "code",
   "execution_count": null,
   "metadata": {},
   "outputs": [],
   "source": [
    "# TODO: Create and save clean dataset\n",
    "numeric_cols = df.select_dtypes(include=np.number).columns\n",
    "df_clean = df.copy()\n",
    "for col in numeric_cols:\n",
    "    df_clean[col] = df_clean[col].fillna(df_clean[col].mean())\n",
    "\n",
    "df_clean = df_clean.dropna(subset=['patient_id', 'age'])\n",
    "\n",
    "df_clean.to_csv('output/q5_cleaned_data.csv', index=False)\n",
    "\n",
    "with open('output/q5_missing_report.txt', 'w') as f:\n",
    "    f.write(\"Missing data cleaned using mean imputation for numeric columns.\\n\")\n",
    "    f.write(f\"Rows remaining: {len(df_clean)}\\n\")"
   ]
  },
  {
   "cell_type": "markdown",
   "metadata": {},
   "source": [
    "## Reflection\n",
    "\n",
    "Which imputation strategy would you recommend for this dataset and why?"
   ]
  },
  {
   "cell_type": "markdown",
   "metadata": {},
   "source": [
    "**Your answer:**\n",
    "\n",
    "TODO: Explain your strategy choice\n",
    "\n",
    "I would recommend mean imputation for continuous variables (like cholesterol) because it maintains the overall data distribution when missingness is low and random (MCAR). It avoids data loss from dropping rows and is computationally simple. However, for skewed distributions, median imputation might be more robust. Forward fill can introduce bias unless the data are time-ordered."
   ]
  }
 ],
 "metadata": {
  "kernelspec": {
   "display_name": "Python 3",
   "language": "python",
   "name": "python3"
  },
  "language_info": {
   "name": "python",
   "version": "3.11.0"
  }
 },
 "nbformat": 4,
 "nbformat_minor": 2
}
